{
 "cells": [
  {
   "cell_type": "code",
   "execution_count": null,
   "metadata": {},
   "outputs": [],
   "source": [
    "import pandas as pd\n",
    "import numpy as np\n",
    "from collections import Counter\n",
    "import matplotlib.pyplot as plt\n",
    "import seaborn as sns\n",
    "\n",
    "pd.set_option('display.max_rows', None)"
   ]
  },
  {
   "cell_type": "code",
   "execution_count": null,
   "metadata": {},
   "outputs": [],
   "source": [
    "# utility functions\n",
    "def process_res_df(df):\n",
    "    df['fastest_alg'] = df.apply(lambda row: fastest_alg(row[['runtime.glmnet', 'runtime.ncvreg', 'runtime.lasso']]), axis=1)\n",
    "    df['lasso_glmnet_runtime_ratio'] = df['runtime.lasso'] / df['runtime.glmnet']\n",
    "    df['n_p_ratio'] = df['n'] / df['p']\n",
    "    df['p0_p_ratio'] = df['p0'] / df['p']\n",
    "    df['runtime_acceptable'] = (df['lasso_glmnet_runtime_ratio'] < 1.5) | (df['runtime.lasso'] < 2)\n",
    "    return df\n",
    "    \n",
    "def fastest_alg(t_triple):\n",
    "    t_triple = list(t_triple)\n",
    "    return ['glmnet', 'ncvreg', 'lasso'][t_triple.index(min(t_triple))]\n",
    "\n",
    "def analyze_measure_by_factor(df, measure, factor, plot=True):\n",
    "    assert (measure in df.columns) & (factor in df.columns)\n",
    "    print(f\"Mean of {measure} by {factor}: \\n{df.groupby([factor])[measure].mean()}\")\n",
    "    print(f\"\\nStd of {measure} by {factor}: \\n{df.groupby([factor])[measure].std()}\")\n",
    "    if plot:\n",
    "        ax = sns.histplot(data=df, x=measure, hue=factor, palette=\"Set2\")\n",
    "        if \"ratio\" in measure:\n",
    "            ax.axvline(1, color=\"red\")\n",
    "        plt.show()"
   ]
  },
  {
   "cell_type": "markdown",
   "metadata": {},
   "source": [
    "# Tests 10"
   ]
  },
  {
   "cell_type": "code",
   "execution_count": null,
   "metadata": {},
   "outputs": [],
   "source": [
    "df = pd.read_csv(\"tests10.csv\")\n",
    "df = process_res_df(df)\n",
    "print(Counter(df['fastest_alg']))\n",
    "df"
   ]
  },
  {
   "cell_type": "code",
   "execution_count": null,
   "metadata": {},
   "outputs": [],
   "source": [
    "ax = sns.histplot(data=df, x=\"lasso_glmnet_runtime_ratio\", color='gray')\n",
    "ax.axvline(1, color='red')\n",
    "plt.show()"
   ]
  },
  {
   "cell_type": "code",
   "execution_count": null,
   "metadata": {},
   "outputs": [],
   "source": [
    "analyze_measure_by_factor(df, \"runtime_acceptable\", \"snr\", plot=False)\n",
    "analyze_measure_by_factor(df, \"runtime_acceptable\", \"n_p_ratio\", plot=False)\n",
    "analyze_measure_by_factor(df, \"runtime_acceptable\", \"p0_p_ratio\", plot=False)"
   ]
  },
  {
   "cell_type": "code",
   "execution_count": null,
   "metadata": {},
   "outputs": [],
   "source": [
    "analyze_measure_by_factor(df, \"lasso_glmnet_runtime_ratio\", \"snr\", plot=False)\n",
    "analyze_measure_by_factor(df, \"lasso_glmnet_runtime_ratio\", \"n_p_ratio\", plot=False)\n",
    "analyze_measure_by_factor(df, \"obj.lasso\", \"snr\", plot=False)\n",
    "analyze_measure_by_factor(df, \"obj.lasso\", \"n_p_ratio\", plot=False)"
   ]
  },
  {
   "cell_type": "code",
   "execution_count": null,
   "metadata": {},
   "outputs": [],
   "source": [
    "\n",
    "obj_threshold = 1e-4\n",
    "print(len(df))\n",
    "print(f\"Num of obj.lasso - obj.glmnet > threshold: {sum(df['obj.lasso-obj.glmnet'] > obj_threshold)}\")\n",
    "print(f\"Num of obj.lasso - obj.ncvreg > threshold: {sum(df['obj.lasso-obj.ncvreg'] > obj_threshold)}\")\n",
    "print(f\"Num of obj.lasso - obj.ncvreg > threshold && obj.lasso - obj.glmnet > threshold: {sum((df['obj.lasso-obj.ncvreg'] > obj_threshold) & (df['obj.lasso-obj.ncvreg'] > obj_threshold))}\")"
   ]
  },
  {
   "cell_type": "code",
   "execution_count": null,
   "metadata": {},
   "outputs": [],
   "source": [
    "\n",
    "obj_threshold = 0\n",
    "print(len(df))\n",
    "print(f\"Num of obj.lasso - obj.glmnet > threshold: {sum(df['obj.lasso-obj.glmnet'] > obj_threshold)}\")\n",
    "print(f\"Num of obj.lasso - obj.ncvreg > threshold: {sum(df['obj.lasso-obj.ncvreg'] > obj_threshold)}\")\n",
    "print(f\"Num of obj.lasso - obj.ncvreg > threshold && obj.lasso - obj.glmnet > threshold: {sum((df['obj.lasso-obj.ncvreg'] > obj_threshold) & (df['obj.lasso-obj.ncvreg'] > obj_threshold))}\")"
   ]
  },
  {
   "cell_type": "code",
   "execution_count": null,
   "metadata": {},
   "outputs": [],
   "source": [
    "\n",
    "obj_threshold = 0\n",
    "temp_df = df[df['obj.lasso-obj.glmnet'] > obj_threshold]\n",
    "print(len(temp_df))\n",
    "print(Counter(temp_df['fastest_alg']))\n",
    "print(f\"Max difference: {max(temp_df['obj.lasso-obj.glmnet'])}\")\n",
    "temp_df[temp_df['fastest_alg'] == 'glmnet']"
   ]
  },
  {
   "cell_type": "markdown",
   "metadata": {},
   "source": [
    "# Tests 6\n",
    "\n",
    "- tol = 1e-4\n",
    "- run on the server, using the package built for the server\n",
    "- seed is set as 5451. The goal is to check whether the result is similar to that in Test 5."
   ]
  },
  {
   "cell_type": "code",
   "execution_count": null,
   "metadata": {},
   "outputs": [],
   "source": [
    "df = pd.read_csv(\"tests6.csv\")\n",
    "df = process_res_df(df)\n",
    "print(Counter(df['fastest_alg']))\n",
    "# df"
   ]
  },
  {
   "cell_type": "code",
   "execution_count": null,
   "metadata": {},
   "outputs": [],
   "source": [
    "ax = sns.histplot(data=df, x=\"lasso_glmnet_runtime_ratio\", color='gray')\n",
    "ax.axvline(1, color='red')\n",
    "plt.show()"
   ]
  },
  {
   "cell_type": "code",
   "execution_count": null,
   "metadata": {},
   "outputs": [],
   "source": [
    "analyze_measure_by_factor(df, \"runtime_acceptable\", \"snr\", plot=False)\n",
    "analyze_measure_by_factor(df, \"runtime_acceptable\", \"n_p_ratio\", plot=False)"
   ]
  },
  {
   "cell_type": "code",
   "execution_count": null,
   "metadata": {},
   "outputs": [],
   "source": [
    "analyze_measure_by_factor(df, \"lasso_glmnet_runtime_ratio\", \"snr\", plot=False)\n",
    "analyze_measure_by_factor(df, \"lasso_glmnet_runtime_ratio\", \"n_p_ratio\", plot=False)\n",
    "analyze_measure_by_factor(df, \"obj.lasso\", \"snr\", plot=False)\n",
    "analyze_measure_by_factor(df, \"obj.lasso\", \"n_p_ratio\", plot=False)"
   ]
  },
  {
   "cell_type": "code",
   "execution_count": null,
   "metadata": {},
   "outputs": [],
   "source": [
    "\n",
    "obj_threshold = 1e-4\n",
    "print(len(df))\n",
    "print(f\"Num of obj.lasso - obj.glmnet > threshold: {sum(df['obj.lasso-obj.glmnet'] > obj_threshold)}\")\n",
    "print(f\"Num of obj.lasso - obj.ncvreg > threshold: {sum(df['obj.lasso-obj.ncvreg'] > obj_threshold)}\")\n",
    "print(f\"Num of obj.lasso - obj.ncvreg > threshold && obj.lasso - obj.glmnet > threshold: {sum((df['obj.lasso-obj.ncvreg'] > obj_threshold) & (df['obj.lasso-obj.ncvreg'] > obj_threshold))}\")"
   ]
  },
  {
   "cell_type": "code",
   "execution_count": null,
   "metadata": {},
   "outputs": [],
   "source": [
    "\n",
    "obj_threshold = 0\n",
    "print(len(df))\n",
    "print(f\"Num of obj.lasso - obj.glmnet > threshold: {sum(df['obj.lasso-obj.glmnet'] > obj_threshold)}\")\n",
    "print(f\"Num of obj.lasso - obj.ncvreg > threshold: {sum(df['obj.lasso-obj.ncvreg'] > obj_threshold)}\")\n",
    "print(f\"Num of obj.lasso - obj.ncvreg > threshold && obj.lasso - obj.glmnet > threshold: {sum((df['obj.lasso-obj.ncvreg'] > obj_threshold) & (df['obj.lasso-obj.ncvreg'] > obj_threshold))}\")"
   ]
  },
  {
   "cell_type": "code",
   "execution_count": null,
   "metadata": {},
   "outputs": [],
   "source": [
    "\n",
    "obj_threshold = 0\n",
    "temp_df = df[df['n_p_ratio'] >= 1]\n",
    "print(len(temp_df))\n",
    "print(f\"Num of obj.lasso - obj.glmnet > threshold: {sum(temp_df['obj.lasso-obj.glmnet'] > obj_threshold)}\")\n",
    "print(f\"Num of obj.lasso - obj.ncvreg > threshold: {sum(temp_df['obj.lasso-obj.ncvreg'] > obj_threshold)}\")\n",
    "print(f\"Num of obj.lasso - obj.ncvreg > threshold && obj.lasso - obj.glmnet > threshold: {sum((temp_df['obj.lasso-obj.ncvreg'] > obj_threshold) & (temp_df['obj.lasso-obj.ncvreg'] > obj_threshold))}\")"
   ]
  },
  {
   "cell_type": "markdown",
   "metadata": {},
   "source": [
    "# Tests 5\n",
    "\n",
    "- tol = 1e-4\n",
    "- run on the server, using the package built for the server"
   ]
  },
  {
   "cell_type": "code",
   "execution_count": null,
   "metadata": {},
   "outputs": [],
   "source": [
    "df = pd.read_csv(\"tests5.csv\")\n",
    "df = process_res_df(df)\n",
    "print(Counter(df['fastest_alg']))\n",
    "df"
   ]
  },
  {
   "cell_type": "code",
   "execution_count": null,
   "metadata": {},
   "outputs": [],
   "source": [
    "ax = sns.histplot(data=df, x=\"lasso_glmnet_runtime_ratio\", color='gray')\n",
    "ax.axvline(1, color='red')\n",
    "plt.show()"
   ]
  },
  {
   "cell_type": "code",
   "execution_count": null,
   "metadata": {},
   "outputs": [],
   "source": [
    "analyze_measure_by_factor(df, \"runtime_acceptable\", \"snr\", plot=False)\n",
    "analyze_measure_by_factor(df, \"runtime_acceptable\", \"n_p_ratio\", plot=False)"
   ]
  },
  {
   "cell_type": "code",
   "execution_count": null,
   "metadata": {},
   "outputs": [],
   "source": [
    "analyze_measure_by_factor(df, \"lasso_glmnet_runtime_ratio\", \"snr\", plot=False)\n",
    "analyze_measure_by_factor(df, \"lasso_glmnet_runtime_ratio\", \"n_p_ratio\", plot=False)\n",
    "analyze_measure_by_factor(df, \"obj.lasso\", \"snr\", plot=False)\n",
    "analyze_measure_by_factor(df, \"obj.lasso\", \"n_p_ratio\", plot=False)"
   ]
  },
  {
   "cell_type": "code",
   "execution_count": null,
   "metadata": {},
   "outputs": [],
   "source": [
    "\n",
    "obj_threshold = 1e-4\n",
    "print(f\"Num of obj.lasso - obj.glmnet > threshold: {sum(df['obj.lasso-obj.glmnet'] > obj_threshold)}\")\n",
    "print(f\"Num of obj.lasso - obj.ncvreg > threshold: {sum(df['obj.lasso-obj.ncvreg'] > obj_threshold)}\")\n",
    "print(f\"Num of obj.lasso - obj.ncvreg > threshold && obj.lasso - obj.glmnet > threshold: {sum((df['obj.lasso-obj.ncvreg'] > obj_threshold) & (df['obj.lasso-obj.ncvreg'] > obj_threshold))}\")"
   ]
  },
  {
   "cell_type": "markdown",
   "metadata": {},
   "source": [
    "# Tests 3\n",
    "\n",
    "- tol = 1e-4\n",
    "- run on the server\n",
    "- Note that the parameter settings are a bit different from those in test 2 and test 4."
   ]
  },
  {
   "cell_type": "code",
   "execution_count": null,
   "metadata": {},
   "outputs": [],
   "source": [
    "df = pd.read_csv(\"tests3.csv\")\n",
    "df = process_res_df(df)\n",
    "print(Counter(df['fastest_alg']))\n",
    "# df"
   ]
  },
  {
   "cell_type": "code",
   "execution_count": null,
   "metadata": {},
   "outputs": [],
   "source": [
    "ax = sns.histplot(data=df, x=\"lasso_glmnet_runtime_ratio\", color='gray')\n",
    "ax.axvline(1, color='red')\n",
    "plt.show()"
   ]
  },
  {
   "cell_type": "code",
   "execution_count": null,
   "metadata": {},
   "outputs": [],
   "source": [
    "analyze_measure_by_factor(df, \"lasso_glmnet_runtime_ratio\", \"sig2noise.ratio\")\n",
    "analyze_measure_by_factor(df, \"lasso_glmnet_runtime_ratio\", \"n_p_ratio\")\n",
    "analyze_measure_by_factor(df, \"obj.lasso\", \"sig2noise.ratio\")\n",
    "analyze_measure_by_factor(df, \"obj.lasso\", \"n_p_ratio\")"
   ]
  },
  {
   "cell_type": "code",
   "execution_count": null,
   "metadata": {},
   "outputs": [],
   "source": [
    "obj_threshold = 1e-4\n",
    "# df_obj = df[(df['obj.lasso-obj.glmnet'] > obj_threshold) | (df['obj.lasso-obj.ncvreg'] > obj_threshold)]\n",
    "df_obj = df[(df['obj.lasso-obj.glmnet'] > obj_threshold)]\n",
    "print(f\"{len(df_obj)}\")\n",
    "df_obj"
   ]
  },
  {
   "cell_type": "markdown",
   "metadata": {},
   "source": [
    "## Tests 2\n",
    "\n",
    "- tol = 1e-5\n",
    "- run on Yu's MacBook\n",
    "- Since the tolerance is much smaller, lasso runs slower, and the accuracy is much higher, with only one case slightly worse than glmnet. \n",
    "- So for this test result, our major focus is how the two measures change along with the factors.\n",
    "- Note that there is slight change in variable names."
   ]
  },
  {
   "cell_type": "code",
   "execution_count": null,
   "metadata": {},
   "outputs": [],
   "source": [
    "df = pd.read_csv(\"tests2.csv\")\n",
    "df = process_res_df(df)\n",
    "print(Counter(df['fastest_alg']))\n",
    "df"
   ]
  },
  {
   "cell_type": "code",
   "execution_count": null,
   "metadata": {},
   "outputs": [],
   "source": [
    "analyze_measure_by_factor(df, \"lasso_glmnet_runtime_ratio\", \"snr\")\n",
    "analyze_measure_by_factor(df, \"lasso_glmnet_runtime_ratio\", \"n_p_ratio\")\n",
    "analyze_measure_by_factor(df, \"obj.lasso\", \"snr\")\n",
    "analyze_measure_by_factor(df, \"obj.lasso\", \"n_p_ratio\")"
   ]
  },
  {
   "cell_type": "code",
   "execution_count": null,
   "metadata": {},
   "outputs": [],
   "source": [
    "obj_threshold = 0\n",
    "df_obj = df[(df['obj.lasso-obj.glmnet'] > obj_threshold) | (df['obj.lasso-obj.ncvreg'] > obj_threshold)]\n",
    "print(f\"{len(df_obj)}\")\n",
    "df_obj"
   ]
  },
  {
   "cell_type": "markdown",
   "metadata": {},
   "source": [
    "## Tests 4\n",
    "\n",
    "- tol = 1e-5\n",
    "- run on the DAGS server\n",
    "- Since the tolerance is much smaller, lasso runs slower, and the accuracy is much higher, with only one case slightly worse than glmnet. \n",
    "- So for this test result, our major focus is how the two measures change along with the factors."
   ]
  },
  {
   "cell_type": "code",
   "execution_count": null,
   "metadata": {},
   "outputs": [],
   "source": [
    "df = pd.read_csv(\"tests4.csv\")\n",
    "df = process_res_df(df)\n",
    "print(Counter(df['fastest_alg']))\n",
    "df"
   ]
  },
  {
   "cell_type": "code",
   "execution_count": null,
   "metadata": {},
   "outputs": [],
   "source": [
    "analyze_measure_by_factor(df, \"lasso_glmnet_runtime_ratio\", \"snr\")\n",
    "analyze_measure_by_factor(df, \"lasso_glmnet_runtime_ratio\", \"n_p_ratio\")\n",
    "analyze_measure_by_factor(df, \"obj.lasso\", \"snr\")\n",
    "analyze_measure_by_factor(df, \"obj.lasso\", \"n_p_ratio\")"
   ]
  },
  {
   "cell_type": "code",
   "execution_count": null,
   "metadata": {},
   "outputs": [],
   "source": [
    "obj_threshold = 0\n",
    "df_obj = df[(df['obj.lasso-obj.glmnet'] > obj_threshold) | (df['obj.lasso-obj.ncvreg'] > obj_threshold)]\n",
    "print(f\"{len(df_obj)}\")\n",
    "df_obj"
   ]
  },
  {
   "cell_type": "code",
   "execution_count": null,
   "metadata": {},
   "outputs": [],
   "source": []
  }
 ],
 "metadata": {
  "interpreter": {
   "hash": "96e6ee0c93fdcb246866065ef27b2838873086db2e17f573d94e79ea0563c541"
  },
  "kernelspec": {
   "display_name": "Python 3.8.11 64-bit ('glmtlp': conda)",
   "name": "python3"
  },
  "language_info": {
   "codemirror_mode": {
    "name": "ipython",
    "version": 3
   },
   "file_extension": ".py",
   "mimetype": "text/x-python",
   "name": "python",
   "nbconvert_exporter": "python",
   "pygments_lexer": "ipython3",
   "version": "3.8.11"
  },
  "orig_nbformat": 4
 },
 "nbformat": 4,
 "nbformat_minor": 2
}
